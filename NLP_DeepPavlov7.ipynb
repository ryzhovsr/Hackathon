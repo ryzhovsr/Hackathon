{
  "cells": [
    {
      "cell_type": "markdown",
      "metadata": {
        "id": "view-in-github",
        "colab_type": "text"
      },
      "source": [
        "<a href=\"https://colab.research.google.com/github/srRyzhov/Hackathon/blob/main/NLP_DeepPavlov7.ipynb\" target=\"_parent\"><img src=\"https://colab.research.google.com/assets/colab-badge.svg\" alt=\"Open In Colab\"/></a>"
      ]
    },
    {
      "cell_type": "code",
      "execution_count": null,
      "metadata": {
        "id": "D419LafG8pZr"
      },
      "outputs": [],
      "source": [
        "! pip install -U accelerate\n",
        "! pip install -U transformers"
      ]
    },
    {
      "cell_type": "code",
      "execution_count": null,
      "metadata": {
        "colab": {
          "base_uri": "https://localhost:8080/"
        },
        "id": "qYJCS7QT7obD",
        "outputId": "791db5e0-7a1c-4cf0-e519-4223d55b04ca"
      },
      "outputs": [
        {
          "output_type": "execute_result",
          "data": {
            "text/plain": [
              "('4.33.1', '0.22.0')"
            ]
          },
          "metadata": {},
          "execution_count": 45
        }
      ],
      "source": [
        "import pandas as pd\n",
        "import numpy as np\n",
        "import random\n",
        "import torch\n",
        "\n",
        "from sklearn.linear_model import LogisticRegression\n",
        "from sklearn.model_selection import train_test_split\n",
        "from sklearn.metrics import f1_score\n",
        "from sklearn.metrics import classification_report\n",
        "from sklearn.preprocessing import StandardScaler\n",
        "from sklearn.preprocessing import LabelEncoder\n",
        "\n",
        "from transformers import BertForSequenceClassification, BertTokenizer\n",
        "from transformers import TrainingArguments\n",
        "from transformers import Trainer\n",
        "\n",
        "import transformers\n",
        "import accelerate\n",
        "transformers.__version__, accelerate.__version__\n"
      ]
    },
    {
      "cell_type": "markdown",
      "metadata": {
        "id": "fqKk25aysz-m"
      },
      "source": [
        "Загрузить файлы: CRA_train_961.xlsx и CRA_test_239.xlsx"
      ]
    },
    {
      "cell_type": "code",
      "execution_count": null,
      "metadata": {
        "id": "Vp8Wk2N2Pg3y"
      },
      "outputs": [],
      "source": [
        "train_df = pd.read_excel('/content/CRA_train_961.xlsx', engine = 'openpyxl', index_col = 0)\n",
        "train_text = train_df['pr_txt']\n",
        "train_labels = train_df['Категория']\n",
        "#train_labels = train_df['Уровень рейтинга']\n",
        "\n",
        "train_df = pd.read_excel('/content/CRA_test_239.xlsx', engine = 'openpyxl', index_col = 0)\n",
        "test_text = train_df['pr_txt']\n",
        "test_labels = train_df['Категория']\n",
        "#test_labels = train_df['Уровень рейтинга']"
      ]
    },
    {
      "cell_type": "markdown",
      "metadata": {
        "id": "Zuw3KZZw-9Jx"
      },
      "source": [
        "\n",
        "Тексты для классификации - train_text\n",
        "\n",
        "Метки классов, соответствующие текстам - train_labels"
      ]
    },
    {
      "cell_type": "code",
      "execution_count": null,
      "metadata": {
        "id": "WdZ6S0Xa3fA-"
      },
      "outputs": [],
      "source": [
        "def seed_all(seed_value):\n",
        "    random.seed(seed_value)\n",
        "    np.random.seed(seed_value)\n",
        "    torch.manual_seed(seed_value)\n",
        "    if torch.cuda.is_available():\n",
        "        torch.cuda.manual_seed(seed_value)\n",
        "        torch.cuda.manual_seed_all(seed_value)\n",
        "        torch.backends.cudnn.benchmark = True\n",
        "        torch.backends.cudnn.deterministic = False\n",
        "seed_all(42)"
      ]
    },
    {
      "cell_type": "code",
      "execution_count": null,
      "metadata": {
        "id": "VF_ulcvF2-7y",
        "outputId": "82a2b148-a3c2-44d3-81e7-a470616aabbb",
        "colab": {
          "base_uri": "https://localhost:8080/"
        }
      },
      "outputs": [
        {
          "output_type": "stream",
          "name": "stderr",
          "text": [
            "Some weights of BertForSequenceClassification were not initialized from the model checkpoint at DeepPavlov/rubert-base-cased and are newly initialized: ['classifier.bias', 'classifier.weight']\n",
            "You should probably TRAIN this model on a down-stream task to be able to use it for predictions and inference.\n"
          ]
        }
      ],
      "source": [
        "# Модель 'DeepPavlov/rubert-base-cased'  Внимание: 7 или 17 выбрать\n",
        "model_name = 'DeepPavlov/rubert-base-cased'\n",
        "model = BertForSequenceClassification.from_pretrained(model_name, num_labels=7) # 7!!!!\n",
        "tokenizer = BertTokenizer.from_pretrained(model_name)"
      ]
    },
    {
      "cell_type": "code",
      "execution_count": null,
      "metadata": {
        "id": "tMCVYxGzosEm"
      },
      "outputs": [],
      "source": [
        "tokens_train = tokenizer.batch_encode_plus(\n",
        "    train_text.values,\n",
        "    max_length = 512,\n",
        "    padding = 'max_length',\n",
        "    truncation = True\n",
        ")\n",
        "\n",
        "tokens_test = tokenizer.batch_encode_plus(\n",
        "    test_text.values,\n",
        "    max_length = 512,\n",
        "    padding = 'max_length',\n",
        "    truncation = True\n",
        ")"
      ]
    },
    {
      "cell_type": "code",
      "source": [
        "# Создание и обучение кодировщика на тренировочных метках\n",
        "label_encoder = LabelEncoder()\n",
        "label_encoder.fit(train_labels)\n",
        "\n",
        "# Преобразование тренировочных и тестовых меток в целочисленные значения\n",
        "train_labels_encoded = label_encoder.transform(train_labels)\n",
        "test_labels_encoded = label_encoder.transform(test_labels)\n",
        "\n",
        "# Получение соответствия между исходными метками и их целочисленными значениями\n",
        "label_mapping = {label: value for label, value in zip(label_encoder.classes_, label_encoder.transform(label_encoder.classes_))}\n"
      ],
      "metadata": {
        "id": "HmBoG6bfOk4e"
      },
      "execution_count": null,
      "outputs": []
    },
    {
      "cell_type": "code",
      "execution_count": null,
      "metadata": {
        "id": "Fgt_5x42Nz9R"
      },
      "outputs": [],
      "source": [
        "#оборачиваем токенизированные текстовые данные в torch Dataset:\n",
        "class Data(torch.utils.data.Dataset):\n",
        "    def __init__(self, encodings, labels):\n",
        "        self.encodings = encodings\n",
        "        self.labels = labels\n",
        "\n",
        "    def __getitem__(self, idx):\n",
        "        item = {k: torch.tensor(v[idx]) for k, v in self.encodings.items()}\n",
        "        item[\"labels\"] = torch.tensor([self.labels[idx]])\n",
        "        return item\n",
        "    def __len__(self):\n",
        "        return len(self.labels)\n",
        "\n",
        "#train_dataset = Data(tokens_train, train_labels)\n",
        "#test_dataset = Data(tokens_test, test_labels)\n",
        "\n",
        "train_dataset = Data(tokens_train, train_labels_encoded)\n",
        "test_dataset = Data(tokens_test, test_labels_encoded)"
      ]
    },
    {
      "cell_type": "code",
      "execution_count": null,
      "metadata": {
        "id": "twSP0VY4T34A"
      },
      "outputs": [],
      "source": [
        "#расчет метрики - F1\n",
        "\n",
        "def compute_metrics(pred):\n",
        "    labels = pred.label_ids\n",
        "    preds = pred.predictions.argmax(-1)\n",
        "    f1 = f1_score(labels, preds, average='micro')\n",
        "    # one of [None, 'micro', 'macro', 'weighted']\n",
        "    return {'F1': f1}"
      ]
    },
    {
      "cell_type": "code",
      "execution_count": null,
      "metadata": {
        "id": "mtb35u1TUKSA"
      },
      "outputs": [],
      "source": [
        "#параметры для обучения:\n",
        "training_args = TrainingArguments(\n",
        "    output_dir = './results', #Выходной каталог\n",
        "    num_train_epochs = 20, #Кол-во эпох для обучения\n",
        "    per_device_train_batch_size = 14, #Размер пакета для каждого устройства во время обучения\n",
        "    per_device_eval_batch_size = 14, #Размер пакета для каждого устройства во время валидации\n",
        "    weight_decay =0.01, #Понижение весов\n",
        "    logging_dir = './logs', #Каталог для хранения журналов\n",
        "    load_best_model_at_end = True, #Загружать ли лучшую модель после обучения\n",
        "    learning_rate = 1e-5, #Скорость обучения\n",
        "    evaluation_strategy ='epoch', #Валидация после каждой эпохи (можно сделать после конкретного кол-ва шагов)\n",
        "    logging_strategy = 'epoch', #Логирование после каждой эпохи\n",
        "    save_strategy = 'epoch', #Сохранение после каждой эпохи\n",
        "    save_total_limit = 1,\n",
        "    seed=42)"
      ]
    },
    {
      "cell_type": "code",
      "execution_count": null,
      "metadata": {
        "id": "DrzcM3orUhEB"
      },
      "outputs": [],
      "source": [
        "#Передача в trainer предообученной модели, tokenizer, данных для обучения, данных для валидации и способа расчета метрики\n",
        "trainer = Trainer(model=model,\n",
        "                  tokenizer = tokenizer,\n",
        "                  args = training_args,\n",
        "                  train_dataset = train_dataset,\n",
        "                  eval_dataset = test_dataset,\n",
        "                  compute_metrics = compute_metrics)"
      ]
    },
    {
      "cell_type": "code",
      "execution_count": null,
      "metadata": {
        "id": "TmWyoLelVPls"
      },
      "outputs": [],
      "source": [
        "#Запуск обучения модели\n",
        "trainer.train()"
      ]
    },
    {
      "cell_type": "code",
      "execution_count": null,
      "metadata": {
        "id": "IQJ69Zz7VQWc"
      },
      "outputs": [],
      "source": [
        "#Сохранение обученной модели\n",
        "model_path = \"fine-tune-bert\"\n",
        "model.save_pretrained(model_path)\n",
        "tokenizer.save_pretrained(model_path)"
      ]
    },
    {
      "cell_type": "code",
      "execution_count": null,
      "metadata": {
        "id": "uuMyInSzVgfN",
        "outputId": "149a64c2-5d1a-4018-f375-9fbe16fb4606",
        "colab": {
          "base_uri": "https://localhost:8080/",
          "height": 17
        }
      },
      "outputs": [
        {
          "output_type": "display_data",
          "data": {
            "text/plain": [
              "<IPython.core.display.HTML object>"
            ],
            "text/html": []
          },
          "metadata": {}
        }
      ],
      "source": [
        "#функция для получения предикта\n",
        "def get_prediction():\n",
        "    test_pred = trainer.predict(test_dataset)\n",
        "    labels = np.argmax(test_pred.predictions, axis = -1)\n",
        "    return labels\n",
        "pred = get_prediction()"
      ]
    },
    {
      "cell_type": "code",
      "execution_count": null,
      "metadata": {
        "id": "H_uvGEDsVrmp"
      },
      "outputs": [],
      "source": [
        "#проверка полученного результата"
      ]
    },
    {
      "cell_type": "code",
      "execution_count": null,
      "metadata": {
        "id": "tDJX2xtdVwRF",
        "outputId": "30de8ae9-bef4-4471-8ebc-655d6eb4090b",
        "colab": {
          "base_uri": "https://localhost:8080/"
        }
      },
      "outputs": [
        {
          "output_type": "stream",
          "name": "stdout",
          "text": [
            "              precision    recall  f1-score   support\n",
            "\n",
            "           0       0.61      0.81      0.70        68\n",
            "           1       0.78      0.57      0.66        37\n",
            "           2       0.90      0.93      0.92        41\n",
            "           3       0.00      0.00      0.00        12\n",
            "           4       0.27      0.12      0.16        26\n",
            "           5       0.54      0.73      0.62        52\n",
            "           6       0.00      0.00      0.00         4\n",
            "\n",
            "    accuracy                           0.65       240\n",
            "   macro avg       0.44      0.45      0.44       240\n",
            "weighted avg       0.59      0.65      0.61       240\n",
            "\n",
            "0.6458333333333334\n"
          ]
        },
        {
          "output_type": "stream",
          "name": "stderr",
          "text": [
            "/usr/local/lib/python3.10/dist-packages/sklearn/metrics/_classification.py:1344: UndefinedMetricWarning: Precision and F-score are ill-defined and being set to 0.0 in labels with no predicted samples. Use `zero_division` parameter to control this behavior.\n",
            "  _warn_prf(average, modifier, msg_start, len(result))\n",
            "/usr/local/lib/python3.10/dist-packages/sklearn/metrics/_classification.py:1344: UndefinedMetricWarning: Precision and F-score are ill-defined and being set to 0.0 in labels with no predicted samples. Use `zero_division` parameter to control this behavior.\n",
            "  _warn_prf(average, modifier, msg_start, len(result))\n",
            "/usr/local/lib/python3.10/dist-packages/sklearn/metrics/_classification.py:1344: UndefinedMetricWarning: Precision and F-score are ill-defined and being set to 0.0 in labels with no predicted samples. Use `zero_division` parameter to control this behavior.\n",
            "  _warn_prf(average, modifier, msg_start, len(result))\n"
          ]
        }
      ],
      "source": [
        "#оценки качества модели\n",
        "print(classification_report(test_labels_encoded, pred))\n",
        "print(f1_score(test_labels_encoded, pred, average='micro'))"
      ]
    }
  ],
  "metadata": {
    "accelerator": "GPU",
    "colab": {
      "provenance": [],
      "gpuType": "T4",
      "include_colab_link": true
    },
    "kernelspec": {
      "display_name": "Python 3",
      "name": "python3"
    },
    "language_info": {
      "name": "python"
    }
  },
  "nbformat": 4,
  "nbformat_minor": 0
}