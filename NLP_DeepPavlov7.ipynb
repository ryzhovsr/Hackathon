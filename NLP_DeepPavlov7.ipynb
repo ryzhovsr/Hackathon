{
  "cells": [
    {
      "cell_type": "markdown",
      "metadata": {
        "id": "view-in-github",
        "colab_type": "text"
      },
      "source": [
        "<a href=\"https://colab.research.google.com/github/srRyzhov/Hackathon/blob/main/NLP_DeepPavlov7.ipynb\" target=\"_parent\"><img src=\"https://colab.research.google.com/assets/colab-badge.svg\" alt=\"Open In Colab\"/></a>"
      ]
    },
    {
      "cell_type": "code",
      "execution_count": null,
      "metadata": {
        "id": "D419LafG8pZr"
      },
      "outputs": [],
      "source": [
        "! pip install -U accelerate\n",
        "! pip install -U transformers"
      ]
    },
    {
      "cell_type": "code",
      "execution_count": 2,
      "metadata": {
        "colab": {
          "base_uri": "https://localhost:8080/"
        },
        "id": "qYJCS7QT7obD",
        "outputId": "0d3b351f-5cf0-451c-d909-30cb81e8a20c"
      },
      "outputs": [
        {
          "output_type": "execute_result",
          "data": {
            "text/plain": [
              "('4.33.1', '0.22.0')"
            ]
          },
          "metadata": {},
          "execution_count": 2
        }
      ],
      "source": [
        "import pandas as pd\n",
        "import numpy as np\n",
        "import random\n",
        "import torch\n",
        "\n",
        "from sklearn.linear_model import LogisticRegression\n",
        "from sklearn.model_selection import train_test_split\n",
        "from sklearn.metrics import f1_score\n",
        "from sklearn.metrics import classification_report\n",
        "from sklearn.preprocessing import StandardScaler\n",
        "from sklearn.preprocessing import LabelEncoder\n",
        "\n",
        "from transformers import BertForSequenceClassification, BertTokenizer\n",
        "from transformers import TrainingArguments\n",
        "from transformers import Trainer\n",
        "\n",
        "import transformers\n",
        "import accelerate\n",
        "transformers.__version__, accelerate.__version__\n"
      ]
    },
    {
      "cell_type": "markdown",
      "metadata": {
        "id": "fqKk25aysz-m"
      },
      "source": [
        "Загрузить файл CRA_train_1200.xlsx !"
      ]
    },
    {
      "cell_type": "code",
      "execution_count": 3,
      "metadata": {
        "id": "Vp8Wk2N2Pg3y"
      },
      "outputs": [],
      "source": [
        "train_df = pd.read_excel('/content/CRA_train_1200.xlsx', engine = 'openpyxl', index_col = 0)"
      ]
    },
    {
      "cell_type": "code",
      "source": [
        "# На 7\n",
        "train_text, test_text, train_labels, test_labels = train_test_split(train_df['pr_txt'].astype('str'),train_df['Категория'].astype('str'), test_size=0.1, random_state=36)"
      ],
      "metadata": {
        "id": "94bN8AjPuTMl"
      },
      "execution_count": null,
      "outputs": []
    },
    {
      "cell_type": "markdown",
      "metadata": {
        "id": "Zuw3KZZw-9Jx"
      },
      "source": [
        "\n",
        "Тексты для классификации - train_text\n",
        "\n",
        "Метки классов, соответствующие текстам - train_labels"
      ]
    },
    {
      "cell_type": "code",
      "execution_count": 4,
      "metadata": {
        "id": "WdZ6S0Xa3fA-"
      },
      "outputs": [],
      "source": [
        "def seed_all(seed_value):\n",
        "    random.seed(seed_value)\n",
        "    np.random.seed(seed_value)\n",
        "    torch.manual_seed(seed_value)\n",
        "    if torch.cuda.is_available():\n",
        "        torch.cuda.manual_seed(seed_value)\n",
        "        torch.cuda.manual_seed_all(seed_value)\n",
        "        torch.backends.cudnn.benchmark = True\n",
        "        torch.backends.cudnn.deterministic = False\n",
        "seed_all(42)"
      ]
    },
    {
      "cell_type": "code",
      "execution_count": null,
      "metadata": {
        "id": "VF_ulcvF2-7y"
      },
      "outputs": [],
      "source": [
        "# Модель 'DeepPavlov/rubert-base-cased'  Внимание: 7 или 17 выбрать\n",
        "model_name = 'DeepPavlov/rubert-base-cased'\n",
        "model = BertForSequenceClassification.from_pretrained(model_name, num_labels=7) # 7!!!!\n",
        "tokenizer = BertTokenizer.from_pretrained(model_name)"
      ]
    },
    {
      "cell_type": "code",
      "execution_count": 6,
      "metadata": {
        "id": "tMCVYxGzosEm"
      },
      "outputs": [],
      "source": [
        "tokens_train = tokenizer.batch_encode_plus(\n",
        "    train_text.values,\n",
        "    max_length = 512,\n",
        "    padding = 'max_length',\n",
        "    truncation = True\n",
        ")\n",
        "\n",
        "tokens_test = tokenizer.batch_encode_plus(\n",
        "    test_text.values,\n",
        "    max_length = 512,\n",
        "    padding = 'max_length',\n",
        "    truncation = True\n",
        ")"
      ]
    },
    {
      "cell_type": "code",
      "source": [
        "# Создание и обучение кодировщика на тренировочных метках\n",
        "label_encoder = LabelEncoder()\n",
        "label_encoder.fit(train_labels)\n",
        "\n",
        "# Преобразование тренировочных и тестовых меток в целочисленные значения\n",
        "train_labels_encoded = label_encoder.transform(train_labels)\n",
        "test_labels_encoded = label_encoder.transform(test_labels)\n",
        "\n",
        "# Получение соответствия между исходными метками и их целочисленными значениями\n",
        "label_mapping = {label: value for label, value in zip(label_encoder.classes_, label_encoder.transform(label_encoder.classes_))}\n"
      ],
      "metadata": {
        "id": "HmBoG6bfOk4e"
      },
      "execution_count": 7,
      "outputs": []
    },
    {
      "cell_type": "code",
      "execution_count": 8,
      "metadata": {
        "id": "Fgt_5x42Nz9R"
      },
      "outputs": [],
      "source": [
        "#оборачиваем токенизированные текстовые данные в torch Dataset:\n",
        "class Data(torch.utils.data.Dataset):\n",
        "    def __init__(self, encodings, labels):\n",
        "        self.encodings = encodings\n",
        "        self.labels = labels\n",
        "\n",
        "    def __getitem__(self, idx):\n",
        "        item = {k: torch.tensor(v[idx]) for k, v in self.encodings.items()}\n",
        "        item[\"labels\"] = torch.tensor([self.labels[idx]])\n",
        "        return item\n",
        "    def __len__(self):\n",
        "        return len(self.labels)\n",
        "\n",
        "#train_dataset = Data(tokens_train, train_labels)\n",
        "#test_dataset = Data(tokens_test, test_labels)\n",
        "\n",
        "train_dataset = Data(tokens_train, train_labels_encoded)\n",
        "test_dataset = Data(tokens_test, test_labels_encoded)"
      ]
    },
    {
      "cell_type": "code",
      "execution_count": 9,
      "metadata": {
        "id": "twSP0VY4T34A"
      },
      "outputs": [],
      "source": [
        "#расчет метрики - F1\n",
        "\n",
        "def compute_metrics(pred):\n",
        "    labels = pred.label_ids\n",
        "    preds = pred.predictions.argmax(-1)\n",
        "    f1 = f1_score(labels, preds, average='micro')\n",
        "    # one of [None, 'micro', 'macro', 'weighted']\n",
        "    return {'F1': f1}"
      ]
    },
    {
      "cell_type": "code",
      "execution_count": 19,
      "metadata": {
        "id": "mtb35u1TUKSA"
      },
      "outputs": [],
      "source": [
        "#параметры для обучения:\n",
        "training_args = TrainingArguments(\n",
        "    output_dir = './results', #Выходной каталог\n",
        "    num_train_epochs = 20, #Кол-во эпох для обучения\n",
        "    per_device_train_batch_size = 12, #Размер пакета для каждого устройства во время обучения\n",
        "    per_device_eval_batch_size = 12, #Размер пакета для каждого устройства во время валидации\n",
        "    weight_decay =0.01, #Понижение весов\n",
        "    logging_dir = './logs', #Каталог для хранения журналов\n",
        "    load_best_model_at_end = True, #Загружать ли лучшую модель после обучения\n",
        "    learning_rate = 1e-5, #Скорость обучения\n",
        "    evaluation_strategy ='epoch', #Валидация после каждой эпохи (можно сделать после конкретного кол-ва шагов)\n",
        "    logging_strategy = 'epoch', #Логирование после каждой эпохи\n",
        "    save_strategy = 'epoch', #Сохранение после каждой эпохи\n",
        "    save_total_limit = 1,\n",
        "    seed=42)"
      ]
    },
    {
      "cell_type": "code",
      "execution_count": 20,
      "metadata": {
        "id": "DrzcM3orUhEB"
      },
      "outputs": [],
      "source": [
        "#Передача в trainer предообученной модели, tokenizer, данных для обучения, данных для валидации и способа расчета метрики\n",
        "trainer = Trainer(model=model,\n",
        "                  tokenizer = tokenizer,\n",
        "                  args = training_args,\n",
        "                  train_dataset = train_dataset,\n",
        "                  eval_dataset = test_dataset,\n",
        "                  compute_metrics = compute_metrics)"
      ]
    },
    {
      "cell_type": "code",
      "execution_count": 21,
      "metadata": {
        "id": "TmWyoLelVPls",
        "colab": {
          "base_uri": "https://localhost:8080/",
          "height": 746
        },
        "outputId": "2bd70239-0dfe-4329-af1a-2cc984c87819"
      },
      "outputs": [
        {
          "output_type": "display_data",
          "data": {
            "text/plain": [
              "<IPython.core.display.HTML object>"
            ],
            "text/html": [
              "\n",
              "    <div>\n",
              "      \n",
              "      <progress value='1620' max='1620' style='width:300px; height:20px; vertical-align: middle;'></progress>\n",
              "      [1620/1620 46:27, Epoch 20/20]\n",
              "    </div>\n",
              "    <table border=\"1\" class=\"dataframe\">\n",
              "  <thead>\n",
              " <tr style=\"text-align: left;\">\n",
              "      <th>Epoch</th>\n",
              "      <th>Training Loss</th>\n",
              "      <th>Validation Loss</th>\n",
              "      <th>F1</th>\n",
              "    </tr>\n",
              "  </thead>\n",
              "  <tbody>\n",
              "    <tr>\n",
              "      <td>1</td>\n",
              "      <td>0.395800</td>\n",
              "      <td>0.902231</td>\n",
              "      <td>0.707113</td>\n",
              "    </tr>\n",
              "    <tr>\n",
              "      <td>2</td>\n",
              "      <td>0.306000</td>\n",
              "      <td>0.973443</td>\n",
              "      <td>0.719665</td>\n",
              "    </tr>\n",
              "    <tr>\n",
              "      <td>3</td>\n",
              "      <td>0.217900</td>\n",
              "      <td>1.004989</td>\n",
              "      <td>0.711297</td>\n",
              "    </tr>\n",
              "    <tr>\n",
              "      <td>4</td>\n",
              "      <td>0.175900</td>\n",
              "      <td>1.046953</td>\n",
              "      <td>0.728033</td>\n",
              "    </tr>\n",
              "    <tr>\n",
              "      <td>5</td>\n",
              "      <td>0.154900</td>\n",
              "      <td>1.108727</td>\n",
              "      <td>0.732218</td>\n",
              "    </tr>\n",
              "    <tr>\n",
              "      <td>6</td>\n",
              "      <td>0.150100</td>\n",
              "      <td>1.076330</td>\n",
              "      <td>0.782427</td>\n",
              "    </tr>\n",
              "    <tr>\n",
              "      <td>7</td>\n",
              "      <td>0.080100</td>\n",
              "      <td>1.262973</td>\n",
              "      <td>0.753138</td>\n",
              "    </tr>\n",
              "    <tr>\n",
              "      <td>8</td>\n",
              "      <td>0.040500</td>\n",
              "      <td>1.284056</td>\n",
              "      <td>0.761506</td>\n",
              "    </tr>\n",
              "    <tr>\n",
              "      <td>9</td>\n",
              "      <td>0.028900</td>\n",
              "      <td>1.404170</td>\n",
              "      <td>0.761506</td>\n",
              "    </tr>\n",
              "    <tr>\n",
              "      <td>10</td>\n",
              "      <td>0.023000</td>\n",
              "      <td>1.360970</td>\n",
              "      <td>0.769874</td>\n",
              "    </tr>\n",
              "    <tr>\n",
              "      <td>11</td>\n",
              "      <td>0.011900</td>\n",
              "      <td>1.463646</td>\n",
              "      <td>0.774059</td>\n",
              "    </tr>\n",
              "    <tr>\n",
              "      <td>12</td>\n",
              "      <td>0.006600</td>\n",
              "      <td>1.431534</td>\n",
              "      <td>0.769874</td>\n",
              "    </tr>\n",
              "    <tr>\n",
              "      <td>13</td>\n",
              "      <td>0.004600</td>\n",
              "      <td>1.390212</td>\n",
              "      <td>0.782427</td>\n",
              "    </tr>\n",
              "    <tr>\n",
              "      <td>14</td>\n",
              "      <td>0.003700</td>\n",
              "      <td>1.506346</td>\n",
              "      <td>0.765690</td>\n",
              "    </tr>\n",
              "    <tr>\n",
              "      <td>15</td>\n",
              "      <td>0.002900</td>\n",
              "      <td>1.484823</td>\n",
              "      <td>0.790795</td>\n",
              "    </tr>\n",
              "    <tr>\n",
              "      <td>16</td>\n",
              "      <td>0.002200</td>\n",
              "      <td>1.495715</td>\n",
              "      <td>0.782427</td>\n",
              "    </tr>\n",
              "    <tr>\n",
              "      <td>17</td>\n",
              "      <td>0.001900</td>\n",
              "      <td>1.520599</td>\n",
              "      <td>0.786611</td>\n",
              "    </tr>\n",
              "    <tr>\n",
              "      <td>18</td>\n",
              "      <td>0.001800</td>\n",
              "      <td>1.544211</td>\n",
              "      <td>0.774059</td>\n",
              "    </tr>\n",
              "    <tr>\n",
              "      <td>19</td>\n",
              "      <td>0.001700</td>\n",
              "      <td>1.535220</td>\n",
              "      <td>0.782427</td>\n",
              "    </tr>\n",
              "    <tr>\n",
              "      <td>20</td>\n",
              "      <td>0.001700</td>\n",
              "      <td>1.537951</td>\n",
              "      <td>0.782427</td>\n",
              "    </tr>\n",
              "  </tbody>\n",
              "</table><p>"
            ]
          },
          "metadata": {}
        },
        {
          "output_type": "execute_result",
          "data": {
            "text/plain": [
              "TrainOutput(global_step=1620, training_loss=0.0806089817005911, metrics={'train_runtime': 2788.1364, 'train_samples_per_second': 6.893, 'train_steps_per_second': 0.581, 'total_flos': 5057221507584000.0, 'train_loss': 0.0806089817005911, 'epoch': 20.0})"
            ]
          },
          "metadata": {},
          "execution_count": 21
        }
      ],
      "source": [
        "#Запуск обучения модели\n",
        "trainer.train()"
      ]
    },
    {
      "cell_type": "code",
      "execution_count": 22,
      "metadata": {
        "id": "IQJ69Zz7VQWc",
        "colab": {
          "base_uri": "https://localhost:8080/"
        },
        "outputId": "d4bdf9c3-988e-48cd-e128-ea90fa9e7bac"
      },
      "outputs": [
        {
          "output_type": "execute_result",
          "data": {
            "text/plain": [
              "('fine-tune-bert/tokenizer_config.json',\n",
              " 'fine-tune-bert/special_tokens_map.json',\n",
              " 'fine-tune-bert/vocab.txt',\n",
              " 'fine-tune-bert/added_tokens.json')"
            ]
          },
          "metadata": {},
          "execution_count": 22
        }
      ],
      "source": [
        "#Сохранение обученной модели\n",
        "model_path = \"fine-tune-bert\"\n",
        "model.save_pretrained(model_path)\n",
        "tokenizer.save_pretrained(model_path)"
      ]
    },
    {
      "cell_type": "code",
      "execution_count": 23,
      "metadata": {
        "id": "uuMyInSzVgfN",
        "outputId": "a590262a-4c00-4897-d706-310f362427ec",
        "colab": {
          "base_uri": "https://localhost:8080/",
          "height": 17
        }
      },
      "outputs": [
        {
          "output_type": "display_data",
          "data": {
            "text/plain": [
              "<IPython.core.display.HTML object>"
            ],
            "text/html": []
          },
          "metadata": {}
        }
      ],
      "source": [
        "#функция для получения предикта\n",
        "def get_prediction():\n",
        "    test_pred = trainer.predict(test_dataset)\n",
        "    labels = np.argmax(test_pred.predictions, axis = -1)\n",
        "    return labels\n",
        "pred = get_prediction()"
      ]
    },
    {
      "cell_type": "code",
      "execution_count": null,
      "metadata": {
        "id": "H_uvGEDsVrmp"
      },
      "outputs": [],
      "source": [
        "#проверка полученного результата"
      ]
    },
    {
      "cell_type": "code",
      "execution_count": 24,
      "metadata": {
        "id": "tDJX2xtdVwRF",
        "outputId": "c0aaca85-a4c1-4456-bf78-1eef9c4dee4b",
        "colab": {
          "base_uri": "https://localhost:8080/"
        }
      },
      "outputs": [
        {
          "output_type": "stream",
          "name": "stdout",
          "text": [
            "              precision    recall  f1-score   support\n",
            "\n",
            "           0       0.75      0.84      0.79        77\n",
            "           1       0.76      0.70      0.73        40\n",
            "           2       0.95      0.68      0.79        31\n",
            "           3       0.00      0.00      0.00         8\n",
            "           4       0.57      0.48      0.52        27\n",
            "           5       0.60      0.78      0.68        54\n",
            "           6       0.00      0.00      0.00         2\n",
            "\n",
            "    accuracy                           0.71       239\n",
            "   macro avg       0.52      0.50      0.50       239\n",
            "weighted avg       0.69      0.71      0.69       239\n",
            "\n",
            "0.707112970711297\n"
          ]
        },
        {
          "output_type": "stream",
          "name": "stderr",
          "text": [
            "/usr/local/lib/python3.10/dist-packages/sklearn/metrics/_classification.py:1344: UndefinedMetricWarning: Precision and F-score are ill-defined and being set to 0.0 in labels with no predicted samples. Use `zero_division` parameter to control this behavior.\n",
            "  _warn_prf(average, modifier, msg_start, len(result))\n",
            "/usr/local/lib/python3.10/dist-packages/sklearn/metrics/_classification.py:1344: UndefinedMetricWarning: Precision and F-score are ill-defined and being set to 0.0 in labels with no predicted samples. Use `zero_division` parameter to control this behavior.\n",
            "  _warn_prf(average, modifier, msg_start, len(result))\n",
            "/usr/local/lib/python3.10/dist-packages/sklearn/metrics/_classification.py:1344: UndefinedMetricWarning: Precision and F-score are ill-defined and being set to 0.0 in labels with no predicted samples. Use `zero_division` parameter to control this behavior.\n",
            "  _warn_prf(average, modifier, msg_start, len(result))\n"
          ]
        }
      ],
      "source": [
        "#оценки качества модели\n",
        "print(classification_report(test_labels_encoded, pred))\n",
        "print(f1_score(test_labels_encoded, pred, average='micro'))"
      ]
    }
  ],
  "metadata": {
    "accelerator": "GPU",
    "colab": {
      "provenance": [],
      "gpuType": "T4",
      "include_colab_link": true
    },
    "kernelspec": {
      "display_name": "Python 3",
      "name": "python3"
    },
    "language_info": {
      "name": "python"
    }
  },
  "nbformat": 4,
  "nbformat_minor": 0
}